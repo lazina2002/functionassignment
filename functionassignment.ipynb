{
  "nbformat": 4,
  "nbformat_minor": 0,
  "metadata": {
    "colab": {
      "provenance": []
    },
    "kernelspec": {
      "name": "python3",
      "display_name": "Python 3"
    },
    "language_info": {
      "name": "python"
    }
  },
  "cells": [
    {
      "cell_type": "code",
      "execution_count": null,
      "metadata": {
        "id": "J5XWI0UI_um9"
      },
      "outputs": [],
      "source": [
        "THEORY QUESTION"
      ]
    },
    {
      "cell_type": "markdown",
      "source": [
        "1.What is differnce between a function and a method in python?\n",
        "- In Python, the main difference between a function and a method is that functions are independent blocks of code, while methods are associated with objects or classes."
      ],
      "metadata": {
        "id": "JUx7iDm__4Rj"
      }
    },
    {
      "cell_type": "markdown",
      "source": [
        "2.explain the concept of function arguments and parameters in python?\n",
        "- In Python, a parameter is a variable in the function definition, while an argument is the value passed to the function when it's called."
      ],
      "metadata": {
        "id": "KccXZH-XA1kd"
      }
    },
    {
      "cell_type": "markdown",
      "source": [
        "3.what are different ways to define and call a function in python?\n",
        "- To define a function in Python, use the def keyword, name your function, add optional parameters in parentheses, write your code, and optionally return a value.\n",
        "Functions can be invoked in two ways: Call by Value or Call by Reference. These two ways are generally differentiated by the type of values passed to them as parameters. The parameters passed to function are called actual parameters whereas the parameters received by function are called formal parameters.\n"
      ],
      "metadata": {
        "id": "e2cSZ7rdcOQW"
      }
    },
    {
      "cell_type": "markdown",
      "source": [
        "4.what is the purpose of the'return'statement in  a python function?\n",
        "- the purpose of the return statement in a python function is to return the output of a statment from the function."
      ],
      "metadata": {
        "id": "IJHb1EzOda0s"
      }
    },
    {
      "cell_type": "markdown",
      "source": [
        "5.what are iterators in python and how do they differ from iterables?\n",
        "- in python ,an iterator is an object that contain countale numnber of values.\n"
      ],
      "metadata": {
        "id": "w1fmf4L9eekH"
      }
    },
    {
      "cell_type": "markdown",
      "source": [
        "6.explain the concept of generator in python and how do they defined.\n",
        "- In Python, a generator is a function or expression that will process a given iterable one object at a time, on demand."
      ],
      "metadata": {
        "id": "-kHZ0zROfIR3"
      }
    },
    {
      "cell_type": "markdown",
      "source": [
        "7.what are the advantage of using generators over regualr functon?\n",
        "-   a generator yields its values one by one, it does not need to store all of the values in memory at once. This can be especially useful when working with large data sets, as it reduces the risk of running out of memory."
      ],
      "metadata": {
        "id": "qlWqbLn6ffer"
      }
    },
    {
      "cell_type": "markdown",
      "source": [
        "8.what is a lambda function in python and when is it typically used.\n",
        "- In Python, a lambda function is a concise, anonymous function that is typically used for short, one-time tasks.\n",
        "Lambda functions are often used in functional programming contexts as arguments for higher-order functions like map(), filter(), and sorted()."
      ],
      "metadata": {
        "id": "zKnzuOkGgZEF"
      }
    },
    {
      "cell_type": "markdown",
      "source": [
        "9.explain the purpose and usage of the 'map'function in python.\n",
        "- Map in Python is a function that works as an iterator to return a result after applying a function to every item of an iterable (tuple, lists, etc.). It is used when you want to apply a single transformation function to all the iterable elements."
      ],
      "metadata": {
        "id": "aG-qrpjhg8qK"
      }
    },
    {
      "cell_type": "markdown",
      "source": [
        "10.what is the differnce between'map()','reduce()',and 'filter()'function in python.\n",
        "- 'Map' operation transforms one form of data into another, 'Reduce' operation combines the elements of a list into a single result and 'Filter' operation selects a subset of items from a list based on a certain condition."
      ],
      "metadata": {
        "id": "zeZOP-Tohioc"
      }
    },
    {
      "cell_type": "markdown",
      "source": [
        "11.write a internal mechanism for sum operating using reduce function on the list[47,11,42,13]\n",
        "- The reduce function is a part of the functools module in Python, and it is used to apply a binary function cumulatively to the items of an iterable, from left to right, so as to reduce the iterable to a single value.\n",
        "\n",
        "First Iteration:\n",
        "\n",
        "a = 47, b = 11\n",
        "Apply a + b → 47 + 11 = 58\n",
        "Now a = 58, move to the next element.\n",
        "Second Iteration:\n",
        "\n",
        "a = 58, b = 42\n",
        "Apply a + b → 58 + 42 = 100\n",
        "Now a = 100, move to the next element.\n",
        "Third Iteration:\n",
        "\n",
        "a = 100, b = 13\n",
        "Apply a + b → 100 + 13 = 113\n",
        "Now a = 113, and the list is exhausted.\n",
        "Final Result:\n",
        "\n",
        "The final value of a is 113, which is the sum of the elements in the list.\n",
        "Python Code Example\n",
        "python\n",
        "Copy code\n",
        "from functools import reduce\n",
        "\n",
        "numbers = [47, 11, 42, 13]\n",
        "\n",
        "result = reduce(lambda a, b: a + b, numbers)\n",
        "\n",
        "print(result)  # Output: 113\n"
      ],
      "metadata": {
        "id": "YoyZG3DhsRtg"
      }
    },
    {
      "cell_type": "code",
      "source": [
        "#1.write a python function that takes a list of numbers as input and return the sum of all even number in the list\n",
        "def sum_even_numbers(numbers):\n",
        "    sum = 0\n",
        "    for num in numbers:\n",
        "        if num % 2 == 0:\n",
        "            sum += num\n",
        "    print(sum)"
      ],
      "metadata": {
        "id": "tVMC-d0M1jLM"
      },
      "execution_count": 29,
      "outputs": []
    },
    {
      "cell_type": "code",
      "source": [
        "sum_even_numbers([1,2,3,4,5,6,7,8,9,10])"
      ],
      "metadata": {
        "colab": {
          "base_uri": "https://localhost:8080/"
        },
        "id": "M0TBTVCcjUWp",
        "outputId": "45562fa6-3fcb-4629-f4be-384345899918"
      },
      "execution_count": 31,
      "outputs": [
        {
          "output_type": "stream",
          "name": "stdout",
          "text": [
            "30\n"
          ]
        }
      ]
    },
    {
      "cell_type": "code",
      "source": [
        "#2.create a python function that accepts a string and returns the reverse of that string\n",
        "def reverse_string(string):\n",
        "    reversed_string = string[::-1]\n",
        "    return reversed_string\n",
        "    reverse_string(\"hello\")"
      ],
      "metadata": {
        "id": "K8HM953OjWSc"
      },
      "execution_count": 2,
      "outputs": []
    },
    {
      "cell_type": "code",
      "source": [
        "reverse_string(\"hello\")"
      ],
      "metadata": {
        "colab": {
          "base_uri": "https://localhost:8080/",
          "height": 36
        },
        "id": "qtLzVlXvZvkV",
        "outputId": "d73ffeb6-64d8-4904-f9ea-a35e4f89c988"
      },
      "execution_count": 3,
      "outputs": [
        {
          "output_type": "execute_result",
          "data": {
            "text/plain": [
              "'olleh'"
            ],
            "application/vnd.google.colaboratory.intrinsic+json": {
              "type": "string"
            }
          },
          "metadata": {},
          "execution_count": 3
        }
      ]
    },
    {
      "cell_type": "code",
      "source": [
        "#3.implement a python function that takes a list of integer and return a new list containing the sqaure of each number.\n",
        "def square_numbers(numbers):\n",
        "    squared_numbers = [num**2 for num in numbers]\n",
        "    return squared_numbers"
      ],
      "metadata": {
        "id": "Ozj49nWjZ5AY"
      },
      "execution_count": 4,
      "outputs": []
    },
    {
      "cell_type": "code",
      "source": [
        "square_numbers([1,2,3,4,5,5])"
      ],
      "metadata": {
        "colab": {
          "base_uri": "https://localhost:8080/"
        },
        "id": "oVS28b_wbeMW",
        "outputId": "60299b4f-9861-4d11-ffdc-d5c0674c4e52"
      },
      "execution_count": 5,
      "outputs": [
        {
          "output_type": "execute_result",
          "data": {
            "text/plain": [
              "[1, 4, 9, 16, 25, 25]"
            ]
          },
          "metadata": {},
          "execution_count": 5
        }
      ]
    },
    {
      "cell_type": "code",
      "source": [
        "#4.write a python function that checks if a given number is prime or not from 1 to 200\n",
        "def is_prime(number):\n",
        "    if number < 2:\n",
        "        return False\n",
        "    for i in range(2, int(number**0.5) + 1):\n",
        "        if number % i == 0:\n",
        "            return False\n",
        "    return True\n",
        "is_prime(17)\n"
      ],
      "metadata": {
        "colab": {
          "base_uri": "https://localhost:8080/"
        },
        "id": "_xb7nCa3b4hC",
        "outputId": "9aa57f88-ad36-4103-e519-826e2ddfbc3b"
      },
      "execution_count": 18,
      "outputs": [
        {
          "output_type": "execute_result",
          "data": {
            "text/plain": [
              "True"
            ]
          },
          "metadata": {},
          "execution_count": 18
        }
      ]
    },
    {
      "cell_type": "code",
      "source": [
        "#5.create a iterator class in python that generator the fibonacci sequence upto a specified number of terms\n",
        "def fibonacci_generator(n):\n",
        "    a, b = 0, 1\n",
        "    for _ in range(n):\n",
        "        yield a\n",
        "        a, b = b, a + b\n"
      ],
      "metadata": {
        "id": "LbOjulO0dizL"
      },
      "execution_count": 13,
      "outputs": []
    },
    {
      "cell_type": "code",
      "source": [
        "fibonacci_generator(10)"
      ],
      "metadata": {
        "colab": {
          "base_uri": "https://localhost:8080/"
        },
        "id": "WBW08hYzetxU",
        "outputId": "361a4646-0444-4fe5-9764-d2d254a246fc"
      },
      "execution_count": 19,
      "outputs": [
        {
          "output_type": "execute_result",
          "data": {
            "text/plain": [
              "<generator object fibonacci_generator at 0x7c8a216962d0>"
            ]
          },
          "metadata": {},
          "execution_count": 19
        }
      ]
    },
    {
      "cell_type": "code",
      "source": [
        "#6.write a generator function in python that yields the power of 2 upto a given exponent\n",
        "def power_of_two(exponent):\n",
        "    for i in range(exponent + 1):\n",
        "        yield 2 ** i"
      ],
      "metadata": {
        "id": "uIKqmycIe3wo"
      },
      "execution_count": 15,
      "outputs": []
    },
    {
      "cell_type": "code",
      "source": [
        "power_of_two(5)"
      ],
      "metadata": {
        "colab": {
          "base_uri": "https://localhost:8080/"
        },
        "id": "TiKQD7WSfh7m",
        "outputId": "2f664da7-d122-427e-96c8-83025161ad2b"
      },
      "execution_count": 16,
      "outputs": [
        {
          "output_type": "execute_result",
          "data": {
            "text/plain": [
              "<generator object power_of_two at 0x7c8a21696110>"
            ]
          },
          "metadata": {},
          "execution_count": 16
        }
      ]
    },
    {
      "cell_type": "code",
      "source": [
        "#7.implement a generator function that reads a file line by line and yields each line as a string\n",
        "def read_file_lines(file_path):\n",
        "    with open(file_path, 'r') as file:\n",
        "        for line in file:\n",
        "            yield line"
      ],
      "metadata": {
        "id": "D-LFWupPfkoN"
      },
      "execution_count": 20,
      "outputs": []
    },
    {
      "cell_type": "code",
      "source": [
        "read_file_lines(\"file.txt\")"
      ],
      "metadata": {
        "colab": {
          "base_uri": "https://localhost:8080/"
        },
        "id": "I9YCGF_ygU3Z",
        "outputId": "f28f055b-7c52-4a82-a609-af8e934efe6e"
      },
      "execution_count": 21,
      "outputs": [
        {
          "output_type": "execute_result",
          "data": {
            "text/plain": [
              "<generator object read_file_lines at 0x7c8a21696ab0>"
            ]
          },
          "metadata": {},
          "execution_count": 21
        }
      ]
    },
    {
      "cell_type": "code",
      "source": [
        "#8.use a lambda function in python to sort a list of tuples based on the second elements of each tuple\n",
        "data = [('apple', 3), ('banana', 1), ('orange', 2)]\n",
        "sorted_data = sorted(data, key=lambda x: x[1])\n",
        "print(sorted_data)"
      ],
      "metadata": {
        "colab": {
          "base_uri": "https://localhost:8080/"
        },
        "id": "95U33iQvgYR9",
        "outputId": "2ecb1eec-554a-46da-c1ff-6696103c280a"
      },
      "execution_count": 27,
      "outputs": [
        {
          "output_type": "stream",
          "name": "stdout",
          "text": [
            "[('banana', 1), ('orange', 2), ('apple', 3)]\n"
          ]
        }
      ]
    },
    {
      "cell_type": "code",
      "source": [
        "#9.write a python program that uses 'map()' to convert a list of temperature from celsius to fahrenheit\n",
        "celsius_temperatures = [0, 10, 20, 30, 40]\n",
        "fahrenheit_temperatures = list(map(lambda c: (c * 9/5) + 32, celsius_temperatures))"
      ],
      "metadata": {
        "id": "_3ovLRLkgtwd"
      },
      "execution_count": 26,
      "outputs": []
    },
    {
      "cell_type": "code",
      "source": [
        "#10.create a python  program that uses'filter()' to remove all the vowels from a given string\n",
        "def remove_vowels(string):\n",
        "    vowels = 'aeiouAEIOU'\n",
        "    filtered_string = ''.join(filter(lambda x: x not in vowels, string))\n",
        "    return filtered_string"
      ],
      "metadata": {
        "id": "xBJU0ugmhNFN"
      },
      "execution_count": 24,
      "outputs": []
    },
    {
      "cell_type": "code",
      "source": [
        "remove_vowels(\"hello\")"
      ],
      "metadata": {
        "colab": {
          "base_uri": "https://localhost:8080/",
          "height": 36
        },
        "id": "GEKyGldLhwHd",
        "outputId": "b7b62c19-e297-4219-97dd-8369ffcc0e66"
      },
      "execution_count": 25,
      "outputs": [
        {
          "output_type": "execute_result",
          "data": {
            "text/plain": [
              "'hll'"
            ],
            "application/vnd.google.colaboratory.intrinsic+json": {
              "type": "string"
            }
          },
          "metadata": {},
          "execution_count": 25
        }
      ]
    },
    {
      "cell_type": "code",
      "source": [
        "#11.write a python program which returns a list  with 2 tuple each  tuple consist of the order number and the product of the price per item and the quatity\n",
        "# List of orders\n",
        "orders = [\n",
        "    (34587, \"Learning Python, Mark Lutz\", 4, 40.95),\n",
        "    (98762, \"Programming Python, Mark Lutz\", 5, 56.80),\n",
        "    (77226, \"Head First Python, Paul Barry\", 3, 32.95),\n",
        "    (88112, \"Einführung in Python3, Bernd Klein\", 3, 24.99)\n",
        "]\n",
        "\n",
        "# Lambda function to calculate the total cost per order\n",
        "# Adds 10 if the total is less than 100\n",
        "calculate_order = lambda order: (order[0], order[2] * order[3] + (10 if order[2] * order[3] < 100 else 0))\n",
        "\n",
        "# Use map to apply the lambda function to all orders\n",
        "result = list(map(calculate_order, orders))\n",
        "\n",
        "# Print the result\n",
        "print(result)"
      ],
      "metadata": {
        "colab": {
          "base_uri": "https://localhost:8080/"
        },
        "id": "yOflSUDthySG",
        "outputId": "c4380deb-bce9-4121-b762-c4b6561e42d1"
      },
      "execution_count": 28,
      "outputs": [
        {
          "output_type": "stream",
          "name": "stdout",
          "text": [
            "[(34587, 163.8), (98762, 284.0), (77226, 108.85000000000001), (88112, 84.97)]\n"
          ]
        }
      ]
    },
    {
      "cell_type": "code",
      "source": [],
      "metadata": {
        "id": "KTBPcSWnrJ_2"
      },
      "execution_count": null,
      "outputs": []
    }
  ]
}